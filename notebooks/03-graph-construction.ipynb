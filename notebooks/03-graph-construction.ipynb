{
 "cells": [
  {
   "cell_type": "code",
   "execution_count": null,
   "metadata": {},
   "outputs": [],
   "source": [
    "%load_ext autoreload\n",
    "%autoreload 2"
   ]
  },
  {
   "cell_type": "code",
   "execution_count": null,
   "metadata": {},
   "outputs": [],
   "source": [
    "from pyprojroot import here\n",
    "\n",
    "from poorman_graphrag.docstore import build_network\n",
    "from poorman_graphrag.index import GraphRAGIndex\n",
    "\n",
    "index = GraphRAGIndex.load(here() / \"data\" / \"deduplicated_index.json\")\n",
    "\n",
    "G = build_network(index, include_documents=False, include_chunks=False)"
   ]
  },
  {
   "cell_type": "code",
   "execution_count": null,
   "metadata": {},
   "outputs": [],
   "source": []
  },
  {
   "cell_type": "code",
   "execution_count": null,
   "metadata": {},
   "outputs": [],
   "source": [
    "G.nodes(data=True)"
   ]
  },
  {
   "cell_type": "code",
   "execution_count": null,
   "metadata": {},
   "outputs": [],
   "source": [
    "import networkx as nx\n",
    "import pandas as pd\n",
    "\n",
    "pd.Series(nx.degree_centrality(G)).sort_values(ascending=False)"
   ]
  },
  {
   "cell_type": "code",
   "execution_count": null,
   "metadata": {},
   "outputs": [],
   "source": [
    "# hvnx.draw(G, layout='kamada_kawai')\n"
   ]
  },
  {
   "cell_type": "code",
   "execution_count": null,
   "metadata": {},
   "outputs": [],
   "source": [
    "# Get degree centrality of all nodes, but filter to just those that have `type='entity'`\n",
    "degree_centrality = nx.degree_centrality(G)\n",
    "pd.Series(degree_centrality).sort_values(ascending=False)\n",
    "# Get connected components and filter for those with 3+ nodes"
   ]
  },
  {
   "cell_type": "code",
   "execution_count": null,
   "metadata": {},
   "outputs": [],
   "source": [
    "list(G.neighbors(\"1d8dab3f31bf096124e482d8517b7087968f7592fab489cc3dd060b16869cb4a\"))"
   ]
  },
  {
   "cell_type": "code",
   "execution_count": null,
   "metadata": {},
   "outputs": [],
   "source": [
    "G.nodes[\"c975f75bafedae8871942db0027b6ff2330ce80fb77fd06e5292224bbfddeb5c\"]"
   ]
  },
  {
   "cell_type": "code",
   "execution_count": null,
   "metadata": {},
   "outputs": [],
   "source": [
    "# Get connected components and filter for those with 3+ nodes\n",
    "large_components = [\n",
    "    component\n",
    "    for component in nx.connected_components(G.to_undirected())\n",
    "    if len(component) >= 3\n",
    "]\n",
    "\n",
    "# Get all nodes that are in large components\n",
    "nodes_in_large_components = set().union(*large_components)\n",
    "\n",
    "len(\n",
    "    list(nx.connected_components(G.subgraph(nodes_in_large_components).to_undirected()))\n",
    ")"
   ]
  },
  {
   "cell_type": "code",
   "execution_count": null,
   "metadata": {},
   "outputs": [],
   "source": [
    "# Use Louvain algorithm to detect communities in the subgraph of large components\n",
    "# Import community detection algorithm from networkx.community\n",
    "from networkx.algorithms.community import louvain_communities\n",
    "\n",
    "# Get the subgraph of nodes in large components and convert to undirected\n",
    "# since Louvain works on undirected graphs\n",
    "subgraph = G.subgraph(nodes_in_large_components).to_undirected()\n",
    "\n",
    "# Apply Louvain community detection\n",
    "communities = louvain_communities(subgraph)\n",
    "\n",
    "# Sort communities by size in descending order\n",
    "communities = sorted(communities, key=len, reverse=True)\n",
    "# communities"
   ]
  },
  {
   "cell_type": "code",
   "execution_count": null,
   "metadata": {},
   "outputs": [],
   "source": [
    "import llamabot as lmb\n",
    "from pydantic import BaseModel, Field\n",
    "\n",
    "\n",
    "class CommunitySummary(BaseModel):\n",
    "    summary: str = Field(description=\"A summary of the community of nodes.\")\n",
    "\n",
    "\n",
    "community_summarizer = lmb.StructuredBot(\n",
    "    model_name=\"gpt-4o\",\n",
    "    pydantic_model=CommunitySummary,\n",
    "    system_prompt=\"You are a helpful assistant that summarizes communities of nodes in a graph.\",  # noqa: E501\n",
    ")\n",
    "\n",
    "print(G.subgraph(communities[0]).edges(data=True))"
   ]
  },
  {
   "cell_type": "code",
   "execution_count": null,
   "metadata": {},
   "outputs": [],
   "source": [
    "@lmb.prompt(\"user\")\n",
    "def community_content(nodes: list, edges: list) -> str:\n",
    "    \"\"\"\n",
    "    Here are the relations in the community:\n",
    "\n",
    "    {% for edge in edges %}\n",
    "    {{ edge[0] }} --{{ edge[2].get('relation_type', '') }}--> {{ edge[1] }}\n",
    "    {% endfor %}\n",
    "\n",
    "    Here are the nodes in the community:\n",
    "\n",
    "    {% for node_id, node_data in nodes %}\n",
    "    ({{ node_data.get('entity_type', '') }}) {{ node_data.get('name', '') }}: {{ node_data.get('summary', '') }}\n",
    "    {% endfor %}\n",
    "    \"\"\"  # noqa: E501"
   ]
  },
  {
   "cell_type": "code",
   "execution_count": null,
   "metadata": {},
   "outputs": [],
   "source": [
    "from poorman_graphrag.communities import Communities, Community\n",
    "\n",
    "communities_to_add = []\n",
    "\n",
    "for community in communities:\n",
    "    content = community_content(\n",
    "        G.subgraph(community).nodes(data=True), G.subgraph(community).edges(data=True)\n",
    "    )\n",
    "    community_summary_response = community_summarizer(content)\n",
    "    communities_to_add.append(\n",
    "        Community(\n",
    "            nodes=list(G.subgraph(community).nodes()),\n",
    "            summary=community_summary_response.summary,\n",
    "        )\n",
    "    )"
   ]
  },
  {
   "cell_type": "code",
   "execution_count": null,
   "metadata": {},
   "outputs": [],
   "source": []
  },
  {
   "cell_type": "code",
   "execution_count": null,
   "metadata": {},
   "outputs": [],
   "source": [
    "index.add_communities(Communities(communities=[c for c in communities_to_add]))"
   ]
  },
  {
   "cell_type": "code",
   "execution_count": null,
   "metadata": {},
   "outputs": [],
   "source": [
    "index.community_index"
   ]
  },
  {
   "cell_type": "code",
   "execution_count": null,
   "metadata": {},
   "outputs": [],
   "source": [
    "index.save(here() / \"data\" / \"deduplicated_index_with_communities.json\")"
   ]
  },
  {
   "cell_type": "code",
   "execution_count": null,
   "metadata": {},
   "outputs": [],
   "source": [
    "from pyprojroot import here\n",
    "\n",
    "from poorman_graphrag.index import GraphRAGIndex\n",
    "\n",
    "index = GraphRAGIndex.load(here() / \"data\" / \"deduplicated_index_with_communities.json\")"
   ]
  },
  {
   "cell_type": "code",
   "execution_count": null,
   "metadata": {},
   "outputs": [],
   "source": [
    "index.community_index"
   ]
  },
  {
   "cell_type": "code",
   "execution_count": null,
   "metadata": {},
   "outputs": [],
   "source": []
  },
  {
   "cell_type": "code",
   "execution_count": null,
   "metadata": {},
   "outputs": [],
   "source": []
  },
  {
   "cell_type": "code",
   "execution_count": null,
   "metadata": {},
   "outputs": [],
   "source": []
  },
  {
   "cell_type": "code",
   "execution_count": null,
   "metadata": {},
   "outputs": [],
   "source": []
  },
  {
   "cell_type": "code",
   "execution_count": null,
   "metadata": {},
   "outputs": [],
   "source": []
  },
  {
   "cell_type": "code",
   "execution_count": null,
   "metadata": {},
   "outputs": [],
   "source": []
  },
  {
   "cell_type": "code",
   "execution_count": null,
   "metadata": {},
   "outputs": [],
   "source": [
    "# print(G.subgraph(nodes_in_large_components).nodes(data=True))"
   ]
  },
  {
   "cell_type": "code",
   "execution_count": null,
   "metadata": {},
   "outputs": [],
   "source": []
  },
  {
   "cell_type": "code",
   "execution_count": null,
   "metadata": {},
   "outputs": [],
   "source": []
  },
  {
   "cell_type": "code",
   "execution_count": null,
   "metadata": {},
   "outputs": [],
   "source": []
  },
  {
   "cell_type": "code",
   "execution_count": null,
   "metadata": {},
   "outputs": [],
   "source": []
  },
  {
   "cell_type": "code",
   "execution_count": null,
   "metadata": {},
   "outputs": [],
   "source": []
  },
  {
   "cell_type": "code",
   "execution_count": null,
   "metadata": {},
   "outputs": [],
   "source": []
  },
  {
   "cell_type": "code",
   "execution_count": null,
   "metadata": {},
   "outputs": [],
   "source": []
  },
  {
   "cell_type": "code",
   "execution_count": null,
   "metadata": {},
   "outputs": [],
   "source": []
  },
  {
   "cell_type": "code",
   "execution_count": null,
   "metadata": {},
   "outputs": [],
   "source": [
    "# Get all entity nodes\n",
    "entity_nodes = [\n",
    "    node for node, attrs in G.nodes(data=True) if attrs.get(\"type\") == \"entity\"\n",
    "]\n",
    "print(f\"Found {len(entity_nodes)} entity nodes\")\n",
    "print(\"\\nFirst few entity nodes and their attributes:\")\n",
    "for node in entity_nodes[:100]:\n",
    "    print(f\"\\nNode: {node}\")\n",
    "    print(f\"Attributes: {G.nodes[node]}\")"
   ]
  },
  {
   "cell_type": "code",
   "execution_count": null,
   "metadata": {},
   "outputs": [],
   "source": [
    "import json\n",
    "\n",
    "from IPython.display import HTML\n",
    "\n",
    "# Convert graph to JSON format that d3.js can understand\n",
    "nodes = []\n",
    "links = []\n",
    "\n",
    "# Add nodes\n",
    "for node, attrs in G.nodes(data=True):\n",
    "    nodes.append(\n",
    "        {\n",
    "            \"id\": node,\n",
    "            \"type\": attrs.get(\"type\", \"\"),\n",
    "            \"name\": attrs.get(\"name\", \"\"),\n",
    "            \"entity_type\": attrs.get(\"entity_type\", \"\"),\n",
    "        }\n",
    "    )\n",
    "\n",
    "# Add edges\n",
    "for source, target, data in G.edges(data=True):\n",
    "    links.append({\"source\": source, \"target\": target, \"type\": data.get(\"type\", \"\")})\n",
    "\n",
    "graph_data = {\"nodes\": nodes, \"links\": links}\n",
    "\n",
    "# Create HTML with embedded d3.js visualization\n",
    "html = \"\"\"\n",
    "<div id=\"graph\"></div>\n",
    "<script src=\"https://d3js.org/d3.v7.min.js\"></script>\n",
    "<script>\n",
    "const data = %s;\n",
    "\n",
    "const width = 800;\n",
    "const height = 600;\n",
    "\n",
    "const svg = d3.select(\"#graph\")\n",
    "    .append(\"svg\")\n",
    "    .attr(\"width\", width)\n",
    "    .attr(\"height\", height);\n",
    "\n",
    "// Create force simulation\n",
    "const simulation = d3.forceSimulation(data.nodes)\n",
    "    .force(\"link\", d3.forceLink(data.links).id(d => d.id))\n",
    "    .force(\"charge\", d3.forceManyBody().strength(-100))\n",
    "    .force(\"center\", d3.forceCenter(width / 2, height / 2));\n",
    "\n",
    "// Add links\n",
    "const link = svg.append(\"g\")\n",
    "    .selectAll(\"line\")\n",
    "    .data(data.links)\n",
    "    .join(\"line\")\n",
    "    .attr(\"stroke\", \"#999\")\n",
    "    .attr(\"stroke-opacity\", 0.6);\n",
    "\n",
    "// Add nodes\n",
    "const node = svg.append(\"g\")\n",
    "    .selectAll(\"circle\")\n",
    "    .data(data.nodes)\n",
    "    .join(\"circle\")\n",
    "    .attr(\"r\", 5)\n",
    "    .attr(\"fill\", d => {\n",
    "        switch(d.type) {\n",
    "            case \"document\": return \"#1f77b4\";\n",
    "            case \"chunk\": return \"#ff7f0e\";\n",
    "            case \"entity\": return \"#2ca02c\";\n",
    "            default: return \"#d62728\";\n",
    "        }\n",
    "    });\n",
    "\n",
    "// Add node labels\n",
    "const label = svg.append(\"g\")\n",
    "    .selectAll(\"text\")\n",
    "    .data(data.nodes)\n",
    "    .join(\"text\")\n",
    "    .text(d => d.name || d.id.slice(0,8))\n",
    "    .attr(\"font-size\", \"8px\")\n",
    "    .attr(\"dx\", 8)\n",
    "    .attr(\"dy\", \".35em\");\n",
    "\n",
    "// Add tooltips\n",
    "node.append(\"title\")\n",
    "    .text(d => `${d.type}\\\\n${d.name || d.id}`);\n",
    "\n",
    "// Update positions on each tick\n",
    "simulation.on(\"tick\", () => {\n",
    "    link\n",
    "        .attr(\"x1\", d => d.source.x)\n",
    "        .attr(\"y1\", d => d.source.y)\n",
    "        .attr(\"x2\", d => d.target.x)\n",
    "        .attr(\"y2\", d => d.target.y);\n",
    "\n",
    "    node\n",
    "        .attr(\"cx\", d => d.x)\n",
    "        .attr(\"cy\", d => d.y);\n",
    "\n",
    "    label\n",
    "        .attr(\"x\", d => d.x)\n",
    "        .attr(\"y\", d => d.y);\n",
    "});\n",
    "\n",
    "// Add drag behavior\n",
    "node.call(d3.drag()\n",
    "    .on(\"start\", dragstarted)\n",
    "    .on(\"drag\", dragged)\n",
    "    .on(\"end\", dragended));\n",
    "\n",
    "function dragstarted(event) {\n",
    "    if (!event.active) simulation.alphaTarget(0.3).restart();\n",
    "    event.subject.fx = event.subject.x;\n",
    "    event.subject.fy = event.subject.y;\n",
    "}\n",
    "\n",
    "function dragged(event) {\n",
    "    event.subject.fx = event.x;\n",
    "    event.subject.fy = event.y;\n",
    "}\n",
    "\n",
    "function dragended(event) {\n",
    "    if (!event.active) simulation.alphaTarget(0);\n",
    "    event.subject.fx = null;\n",
    "    event.subject.fy = null;\n",
    "}\n",
    "</script>\n",
    "\"\"\" % json.dumps(graph_data)\n",
    "\n",
    "HTML(html)"
   ]
  }
 ],
 "metadata": {
  "kernelspec": {
   "display_name": "default",
   "language": "python",
   "name": "python3"
  },
  "language_info": {
   "codemirror_mode": {
    "name": "ipython",
    "version": 3
   },
   "file_extension": ".py",
   "mimetype": "text/x-python",
   "name": "python",
   "nbconvert_exporter": "python",
   "pygments_lexer": "ipython3",
   "version": "3.12.0"
  }
 },
 "nbformat": 4,
 "nbformat_minor": 2
}
