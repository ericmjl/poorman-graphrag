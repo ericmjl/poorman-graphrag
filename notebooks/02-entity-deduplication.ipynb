{
 "cells": [
  {
   "cell_type": "code",
   "execution_count": null,
   "metadata": {},
   "outputs": [],
   "source": [
    "%load_ext autoreload\n",
    "%autoreload 2"
   ]
  },
  {
   "cell_type": "code",
   "execution_count": null,
   "metadata": {},
   "outputs": [],
   "source": [
    "from dotenv import load_dotenv\n",
    "\n",
    "load_dotenv()"
   ]
  },
  {
   "cell_type": "code",
   "execution_count": null,
   "metadata": {},
   "outputs": [],
   "source": [
    "from pyprojroot import here\n",
    "\n",
    "from poorman_graphrag.index import GraphRAGIndex\n",
    "\n",
    "index = GraphRAGIndex.load(here() / \"data\" / \"index.json\")\n",
    "index.entities"
   ]
  },
  {
   "cell_type": "code",
   "execution_count": null,
   "metadata": {},
   "outputs": [],
   "source": [
    "from poorman_graphrag.entities import identify_exact_duplicates\n",
    "\n",
    "identify_exact_duplicates(index.entities)"
   ]
  },
  {
   "cell_type": "code",
   "execution_count": null,
   "metadata": {},
   "outputs": [],
   "source": [
    "from poorman_graphrag.entities import identify_levenshtein_similar\n",
    "\n",
    "similar_entities = identify_levenshtein_similar(index.entities)"
   ]
  },
  {
   "cell_type": "code",
   "execution_count": null,
   "metadata": {},
   "outputs": [],
   "source": [
    "similar_entities"
   ]
  },
  {
   "cell_type": "code",
   "execution_count": null,
   "metadata": {},
   "outputs": [],
   "source": [
    "import llamabot as lmb\n",
    "from pydantic import BaseModel, Field\n",
    "\n",
    "from poorman_graphrag.entities import Entity\n",
    "\n",
    "\n",
    "class IsSameEntity(BaseModel):\n",
    "    is_same_entity: bool = Field(\n",
    "        description=\"Whether the entities are semantically the same entity\"\n",
    "    )\n",
    "    reason: str = Field(description=\"The reason for the answer\")\n",
    "\n",
    "    def __bool__(self):\n",
    "        return self.is_same_entity\n",
    "\n",
    "\n",
    "@lmb.prompt(\"user\")\n",
    "def is_same_entity(entities) -> IsSameEntity:\n",
    "    \"\"\"Here are the entities:\n",
    "\n",
    "    {% for entity in entities %}- {{ entity.entity_type }}: {{ entity.name }}\n",
    "    {% endfor %}\n",
    "    \"\"\"\n",
    "\n",
    "\n",
    "@lmb.prompt(\"user\")\n",
    "def examples(same_entities: list[Entity], different_entities: list[Entity]) -> str:\n",
    "    \"\"\"Examples of entities that are the same entity:\n",
    "\n",
    "    {% for entity in same_entities %}- {{ entity.entity_type }}: {{ entity.name }}\n",
    "    {% endfor %}\n",
    "\n",
    "    Examples of entities that are not the same entity:\n",
    "\n",
    "    {% for entity in different_entities %}- {{ entity.entity_type }}: {{ entity.name }}\n",
    "    {% endfor %}\n",
    "    \"\"\"\n",
    "\n",
    "\n",
    "in_context_examples = lmb.user(\n",
    "    examples(\n",
    "        same_entities=[\n",
    "            *similar_entities[(\"paper\", \"novick et al. 2012\")],\n",
    "        ],\n",
    "        different_entities=[\n",
    "            *similar_entities[(\"metric\", \"type i error\")],\n",
    "        ],\n",
    "    )\n",
    ")"
   ]
  },
  {
   "cell_type": "code",
   "execution_count": null,
   "metadata": {},
   "outputs": [],
   "source": [
    "# I will note that the use of in context learning here is pretty powerful.\n"
   ]
  },
  {
   "cell_type": "code",
   "execution_count": null,
   "metadata": {},
   "outputs": [],
   "source": [
    "print(is_same_entity(list(similar_entities.values())[0]).content)"
   ]
  },
  {
   "cell_type": "code",
   "execution_count": null,
   "metadata": {},
   "outputs": [],
   "source": [
    "same_entity_judge = lmb.StructuredBot(\n",
    "    system_prompt=lmb.system(\n",
    "        \"You are a judge of whether two entities in a knowledge graph \"\n",
    "        \"are similar enough to be considered the same entity. \"\n",
    "    ),\n",
    "    pydantic_model=IsSameEntity,\n",
    "    model_name=\"gpt-4o\",\n",
    ")\n",
    "\n",
    "\n",
    "entity_groups_to_deduplicate = {}\n",
    "for entity_type, entities in similar_entities.items():\n",
    "    result = same_entity_judge(is_same_entity(entities))\n",
    "    if result:\n",
    "        entity_groups_to_deduplicate[entity_type] = entities\n",
    "\n",
    "entity_groups_to_deduplicate"
   ]
  },
  {
   "cell_type": "code",
   "execution_count": null,
   "metadata": {},
   "outputs": [],
   "source": [
    "deduplicated_index = index.deduplicate_entities(entity_groups_to_deduplicate)"
   ]
  },
  {
   "cell_type": "code",
   "execution_count": null,
   "metadata": {},
   "outputs": [],
   "source": [
    "len(deduplicated_index.entities), len(index.entities)"
   ]
  },
  {
   "cell_type": "code",
   "execution_count": null,
   "metadata": {},
   "outputs": [],
   "source": [
    "deduplicated_index.save(here() / \"data\" / \"deduplicated_index.json\")"
   ]
  }
 ],
 "metadata": {
  "kernelspec": {
   "display_name": "default",
   "language": "python",
   "name": "python3"
  },
  "language_info": {
   "codemirror_mode": {
    "name": "ipython",
    "version": 3
   },
   "file_extension": ".py",
   "mimetype": "text/x-python",
   "name": "python",
   "nbconvert_exporter": "python",
   "pygments_lexer": "ipython3",
   "version": "3.12.0"
  }
 },
 "nbformat": 4,
 "nbformat_minor": 2
}
