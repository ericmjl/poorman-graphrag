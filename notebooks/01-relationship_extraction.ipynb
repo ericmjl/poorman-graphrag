{
 "cells": [
  {
   "cell_type": "code",
   "execution_count": null,
   "metadata": {},
   "outputs": [],
   "source": [
    "%load_ext autoreload\n",
    "%autoreload 2"
   ]
  },
  {
   "cell_type": "code",
   "execution_count": null,
   "metadata": {},
   "outputs": [],
   "source": [
    "from dotenv import load_dotenv\n",
    "\n",
    "load_dotenv()"
   ]
  },
  {
   "cell_type": "code",
   "execution_count": null,
   "metadata": {},
   "outputs": [],
   "source": [
    "import re\n",
    "\n",
    "from pyprojroot import here\n",
    "\n",
    "with open(here() / \"data\" / \"curve-sim.md\", \"r+\") as f:\n",
    "    text = f.read()\n",
    "\n",
    "\n",
    "# Remove all <!-- image --> from the text\n",
    "text = re.sub(r\"<!-- image -->\", \"\", text)\n",
    "# Remove all `\\n`*3 or more from the text\n",
    "text = re.sub(r\"\\n{3,}\", \"\\n\\n\", text)"
   ]
  },
  {
   "cell_type": "code",
   "execution_count": null,
   "metadata": {},
   "outputs": [],
   "source": [
    "from chonkie import SDPMChunker\n",
    "\n",
    "chunker = SDPMChunker(min_sentences=10, threshold=0.4)\n",
    "chunks = chunker(text)\n",
    "len(chunks)"
   ]
  },
  {
   "cell_type": "code",
   "execution_count": null,
   "metadata": {},
   "outputs": [],
   "source": [
    "from poorman_graphrag.index import GraphRAGIndex\n",
    "\n",
    "index = GraphRAGIndex()\n",
    "doc_hash = index.add_document(text)\n",
    "\n",
    "for chunk in chunks:\n",
    "    index.add_chunk(doc_hash, chunk.text)"
   ]
  },
  {
   "cell_type": "code",
   "execution_count": null,
   "metadata": {},
   "outputs": [],
   "source": [
    "import llamabot as lmb\n",
    "\n",
    "from poorman_graphrag.relationships import Relationships\n",
    "\n",
    "bot = lmb.StructuredBot(\n",
    "    system_prompt=\"\"\"You are an expert at extracting relationships\n",
    "    between entities in text.\n",
    "    Given a chunk of text, identify relationships\n",
    "    between entities mentioned in the text.\n",
    "    \"\"\",\n",
    "    pydantic_model=Relationships,\n",
    ")"
   ]
  },
  {
   "cell_type": "code",
   "execution_count": null,
   "metadata": {},
   "outputs": [],
   "source": [
    "from tqdm.auto import tqdm\n",
    "\n",
    "for chunk_hash, chunk_text in tqdm(index.chunk_index.items()):\n",
    "    relationships = bot(chunk_text)\n",
    "    index.add_relations(chunk_hash, relationships)"
   ]
  },
  {
   "cell_type": "code",
   "execution_count": null,
   "metadata": {},
   "outputs": [],
   "source": [
    "index.save(here() / \"data\" / \"index.json\")"
   ]
  },
  {
   "cell_type": "code",
   "execution_count": null,
   "metadata": {},
   "outputs": [],
   "source": [
    "len(index.entity_index)"
   ]
  }
 ],
 "metadata": {
  "kernelspec": {
   "display_name": "default",
   "language": "python",
   "name": "python3"
  },
  "language_info": {
   "codemirror_mode": {
    "name": "ipython",
    "version": 3
   },
   "file_extension": ".py",
   "mimetype": "text/x-python",
   "name": "python",
   "nbconvert_exporter": "python",
   "pygments_lexer": "ipython3",
   "version": "3.12.0"
  }
 },
 "nbformat": 4,
 "nbformat_minor": 2
}
